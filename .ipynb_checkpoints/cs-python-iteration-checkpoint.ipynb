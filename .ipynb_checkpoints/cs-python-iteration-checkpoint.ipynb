{
 "cells": [
  {
   "cell_type": "markdown",
   "metadata": {},
   "source": [
    "# Practicing FOR Loops in Python\n",
    "\n",
    "Syntax:\n",
    "\n",
    "```\n",
    "for loopVar in range(start, stop, step):\n",
    "    #indent - do what you need to do here\n",
    "\n",
    "#dedent - loop is done. Do other non-loop stuff here\n",
    "```"
   ]
  },
  {
   "cell_type": "markdown",
   "metadata": {},
   "source": [
    "## Task 1: Tweak task 2 so that it will ask the user to enter their name and a number and then display their name that number of times."
   ]
  },
  {
   "cell_type": "code",
   "execution_count": 2,
   "metadata": {},
   "outputs": [
    {
     "name": "stdout",
     "output_type": "stream",
     "text": [
      "What is your name?Iulian\n",
      "How many times would you like your name to be displayed?4\n",
      "Iulian\n",
      "Iulian\n",
      "Iulian\n",
      "Iulian\n"
     ]
    }
   ],
   "source": [
    "name = input(\"What is your name?\")\n",
    "number = int(input('How many times would you like your name to be displayed?'))\n",
    "\n",
    "for i in range(0,number):\n",
    "    print(name)"
   ]
  },
  {
   "cell_type": "markdown",
   "metadata": {},
   "source": [
    "## Task 2: Ask the user to enter their name and then display their name three times"
   ]
  },
  {
   "cell_type": "code",
   "execution_count": 1,
   "metadata": {},
   "outputs": [
    {
     "name": "stdout",
     "output_type": "stream",
     "text": [
      "What is your name?Iulian\n",
      "Iulian\n",
      "Iulian\n",
      "Iulian\n"
     ]
    }
   ],
   "source": [
    "name = input(\"What is your name?\")\n",
    "\n",
    "for i in range(0,3):\n",
    "    print(name)"
   ]
  },
  {
   "cell_type": "markdown",
   "metadata": {},
   "source": [
    "## Task 3: Using a FOR loop, write a Python program to find the sum of all even numbers from 0 to 50"
   ]
  },
  {
   "cell_type": "code",
   "execution_count": 10,
   "metadata": {},
   "outputs": [
    {
     "name": "stdout",
     "output_type": "stream",
     "text": [
      "650\n"
     ]
    }
   ],
   "source": [
    "result = 0\n",
    "for number in range(0,51,2):\n",
    "    result += number\n",
    "\n",
    "print(result)"
   ]
  },
  {
   "cell_type": "markdown",
   "metadata": {},
   "source": [
    "## Task 4: Ask for a number below 50 and count down from 50 to that number."
   ]
  },
  {
   "cell_type": "code",
   "execution_count": 27,
   "metadata": {},
   "outputs": [
    {
     "name": "stdout",
     "output_type": "stream",
     "text": [
      "Please enter a number below 50: 10\n",
      "50\n",
      "49\n",
      "48\n",
      "47\n",
      "46\n",
      "45\n",
      "44\n",
      "43\n",
      "42\n",
      "41\n",
      "40\n",
      "39\n",
      "38\n",
      "37\n",
      "36\n",
      "35\n",
      "34\n",
      "33\n",
      "32\n",
      "31\n",
      "30\n",
      "29\n",
      "28\n",
      "27\n",
      "26\n",
      "25\n",
      "24\n",
      "23\n",
      "22\n",
      "21\n",
      "20\n",
      "19\n",
      "18\n",
      "17\n",
      "16\n",
      "15\n",
      "14\n",
      "13\n",
      "12\n",
      "11\n",
      "10\n"
     ]
    }
   ],
   "source": [
    "number = int(input(\"Please enter a number below 50: \"))\n",
    "\n",
    "for x in range(50,number-1,-1):\n",
    "    print(x)"
   ]
  },
  {
   "cell_type": "markdown",
   "metadata": {},
   "source": [
    "## Task 5: Ask the user to enter a number between 1 and 12 and then display the times table for that number."
   ]
  },
  {
   "cell_type": "code",
   "execution_count": 2,
   "metadata": {},
   "outputs": [
    {
     "name": "stdout",
     "output_type": "stream",
     "text": [
      "Enter a number between 1 to 12: 10\n",
      "10\n",
      "20\n",
      "30\n",
      "40\n",
      "50\n",
      "60\n",
      "70\n",
      "80\n",
      "90\n",
      "100\n"
     ]
    }
   ],
   "source": [
    "number = int(input(\"Enter a number between 1 to 12: \"))\n",
    "\n",
    "for x in range(1,11):\n",
    "    result = number * x\n",
    "    print(result)"
   ]
  },
  {
   "cell_type": "markdown",
   "metadata": {},
   "source": [
    "## Task 6: Ask the user to enter their name and a number. If the number is less than 10 then display their name that number of times. Otherwise display the message \"Too high\" twice."
   ]
  },
  {
   "cell_type": "code",
   "execution_count": 2,
   "metadata": {},
   "outputs": [
    {
     "name": "stdout",
     "output_type": "stream",
     "text": [
      "What is your name?iulian\n",
      "Enter a number74\n",
      "too high\n"
     ]
    }
   ],
   "source": [
    "name = input(\"What is your name?\")\n",
    "\n",
    "number = int(input(\"Enter a number\"))\n",
    "\n",
    "if number < 10:\n",
    "    for x in range(1,number+1):\n",
    "        print(name)\n",
    "\n",
    "else:\n",
    "    print(\"Too high\")"
   ]
  },
  {
   "cell_type": "markdown",
   "metadata": {},
   "source": [
    "## Stretch task 1: Write a Python program to construct the following pattern, using a nested for loop. \n",
    "\n",
    "@\n",
    "\n",
    "@@\n",
    "\n",
    "@@@\n",
    "\n",
    "@@@@\n",
    "\n",
    "@@@\n",
    "\n",
    "@@\n",
    "\n",
    "@\n"
   ]
  },
  {
   "cell_type": "code",
   "execution_count": null,
   "metadata": {},
   "outputs": [],
   "source": [
    "# write your code here\n",
    "#Hint:Nested for loop is a for loop within a for loop \n",
    "\n",
    "for i in range(n):\n",
    "    for j in range(i):"
   ]
  },
  {
   "cell_type": "markdown",
   "metadata": {},
   "source": [
    "## Example Function that uses loops - sumTo(num): takes a number as a parameter and adds all the numbers from 1 to that number\n",
    "The sumTo function has been done for you."
   ]
  },
  {
   "cell_type": "code",
   "execution_count": 4,
   "metadata": {},
   "outputs": [],
   "source": [
    "#This function sums up all the numbers from 1 to num\n",
    "def sumTo(num):\n",
    "    sum=0\n",
    "    for i in range(1,num+1):\n",
    "        sum+=i # keep adding i into the sum - same as sum = sum +i\n",
    "    return sum"
   ]
  },
  {
   "cell_type": "markdown",
   "metadata": {},
   "source": [
    "See how the loop in the code above goes from 1 (inclusive) up to num+1 (but not including)?\n",
    "\n",
    "Also, see the line:\n",
    "\n",
    "```python\n",
    "sum+=i\n",
    "```\n",
    "\n",
    "This will keep adding the loop index i into the sum. It is cumulative! It is the same as:\n",
    "\n",
    "```python\n",
    "sum = sum+i\n",
    "```\n",
    "\n",
    "Run the code below to see the function in action and check for errors:"
   ]
  },
  {
   "cell_type": "code",
   "execution_count": 5,
   "metadata": {},
   "outputs": [
    {
     "data": {
      "text/plain": [
       "5050"
      ]
     },
     "execution_count": 5,
     "metadata": {},
     "output_type": "execute_result"
    }
   ],
   "source": [
    "#run the function\n",
    "sumTo(100)"
   ]
  },
  {
   "cell_type": "code",
   "execution_count": 6,
   "metadata": {},
   "outputs": [
    {
     "data": {
      "text/plain": [
       "55"
      ]
     },
     "execution_count": 6,
     "metadata": {},
     "output_type": "execute_result"
    }
   ],
   "source": [
    "#run the function here with a different argument\n",
    "sumTo(10)"
   ]
  },
  {
   "cell_type": "code",
   "execution_count": 7,
   "metadata": {},
   "outputs": [
    {
     "data": {
      "text/plain": [
       "2254626"
      ]
     },
     "execution_count": 7,
     "metadata": {},
     "output_type": "execute_result"
    }
   ],
   "source": [
    "#run the function here with a different argument\n",
    "sumTo(2123)"
   ]
  },
  {
   "cell_type": "code",
   "execution_count": null,
   "metadata": {},
   "outputs": [],
   "source": [
    "#run the function here with a different argument"
   ]
  },
  {
   "cell_type": "markdown",
   "metadata": {},
   "source": [
    "## Stretch task 2: Write a function which takes a number and returns true if a number is a prime. \n",
    "\n",
    "E.g. \n",
    "\n",
    "```python \n",
    "primeTest(17) = true, primeTest(15)=false\n",
    "```"
   ]
  },
  {
   "cell_type": "code",
   "execution_count": 8,
   "metadata": {},
   "outputs": [],
   "source": [
    "def primeTest(num):\n",
    "    isPrime = True\n",
    "    #hint: start by assuming the number IS a prime\n",
    "    \n",
    "    for i in range(2,num):\n",
    "        if (num % i) == 0:\n",
    "            print(num, 'is not a prime number')\n",
    "            isPrime = False\n",
    "            break\n",
    "       \n",
    "    \n",
    "    return isPrime\n"
   ]
  },
  {
   "cell_type": "code",
   "execution_count": 11,
   "metadata": {},
   "outputs": [
    {
     "data": {
      "text/plain": [
       "True"
      ]
     },
     "execution_count": 11,
     "metadata": {},
     "output_type": "execute_result"
    }
   ],
   "source": [
    "# run the function\n",
    "primeTest(7)\n",
    "\n",
    "#TRUE means it is prime\n",
    "#False means it is NOT prime"
   ]
  }
 ],
 "metadata": {
  "kernelspec": {
   "display_name": "Python 3",
   "language": "python",
   "name": "python3"
  },
  "language_info": {
   "codemirror_mode": {
    "name": "ipython",
    "version": 3
   },
   "file_extension": ".py",
   "mimetype": "text/x-python",
   "name": "python",
   "nbconvert_exporter": "python",
   "pygments_lexer": "ipython3",
   "version": "3.6.8"
  }
 },
 "nbformat": 4,
 "nbformat_minor": 2
}
